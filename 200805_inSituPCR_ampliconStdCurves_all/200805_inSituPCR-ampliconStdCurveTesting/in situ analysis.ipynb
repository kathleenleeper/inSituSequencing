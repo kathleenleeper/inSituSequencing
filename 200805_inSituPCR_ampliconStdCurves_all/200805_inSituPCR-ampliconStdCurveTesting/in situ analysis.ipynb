{
 "cells": [
  {
   "cell_type": "code",
   "execution_count": 30,
   "metadata": {
    "code_folding": []
   },
   "outputs": [],
   "source": [
    "#library imports\n",
    "import numpy as np #numpy is a math library \n",
    "import pandas as pd #pandas is a data library for manipulating information, my main library\n",
    "import matplotlib as plt #equivalent to R for plotting\n",
    "import seaborn as sns # a wrapper for matplot lib that makes automatically pretty graphs\n",
    "from funcsLibPrep import * # this is a custom set of functions, primarily for dealing with applied biosystems data\n",
    "from scipy import stats # for linear regression later\n",
    "from scipy import optimize # for polynomials\n",
    "## stats.gmean for exponential data!!"
   ]
  },
  {
   "cell_type": "code",
   "execution_count": 55,
   "metadata": {},
   "outputs": [],
   "source": [
    "sns.set(context=\"talk\")"
   ]
  },
  {
   "cell_type": "code",
   "execution_count": 31,
   "metadata": {
    "code_folding": [
     0
    ]
   },
   "outputs": [],
   "source": [
    "#display magic for seaborn and mpl\n",
    "%matplotlib inline\n",
    "sns.set() #set seaborn graphs to be pretty"
   ]
  },
  {
   "cell_type": "markdown",
   "metadata": {},
   "source": [
    "# nuclei counting match\n",
    "We can approximate the # of nuclei in each by saying:\n",
    "* x ng DNA * (1000 pg/1 ng) * (1 nuclei/6pg) = # nuclei relative to cq"
   ]
  },
  {
   "cell_type": "code",
   "execution_count": 32,
   "metadata": {
    "code_folding": []
   },
   "outputs": [],
   "source": [
    "# wrapper functions for nuclei <-> ng conversions\n",
    "def ng_to_nuclei(ng):\n",
    "    return ng * 1000 / 6\n",
    "def nuclei_to_ng(nuclei):\n",
    "    return  nuclei * 6 /1000"
   ]
  },
  {
   "cell_type": "code",
   "execution_count": 33,
   "metadata": {
    "code_folding": [
     0
    ]
   },
   "outputs": [],
   "source": [
    "# additional wrapper functions for AB systems\n",
    "def process(fn, data = None):\n",
    "    sampleSetup = pd.read_excel(fn, 'Sample Setup', skiprows=7)\n",
    "    df = importAmplification(fn).merge(sampleSetup)\n",
    "    results = pd.read_excel(fn, skiprows=range(\n",
    "        0, 7), sheet_name='Results').dropna(thresh=5).dropna(\n",
    "            axis=1,\n",
    "            thresh=5).drop(columns=['Task', 'Reporter',\n",
    "                          'Quencher'])  #import results sheet, drop null rows, drop null columns, drop stupid columns\n",
    "    results['Ct_clean'] = pd.to_numeric(results['Cт'], errors='coerce') #this is a cleaning line for later\n",
    "    \n",
    "    title = fn.rstrip('.xls')\n",
    "    return df, results, title"
   ]
  },
  {
   "cell_type": "markdown",
   "metadata": {},
   "source": [
    "# data import and cleaning, v1"
   ]
  },
  {
   "cell_type": "code",
   "execution_count": 34,
   "metadata": {
    "code_folding": []
   },
   "outputs": [],
   "source": [
    "## import code\n",
    "fn = '200805_RachelBoyd_inSituPrimersv1.xls'\n",
    "amp, results, title = process(fn) #data for v1. \"amp\" ris a variable we can use for graphing amplification data; results holds our ct results, and title is a helper for naming anything we make with these files"
   ]
  },
  {
   "cell_type": "code",
   "execution_count": 35,
   "metadata": {},
   "outputs": [
    {
     "data": {
      "text/html": [
       "<div>\n",
       "<style scoped>\n",
       "    .dataframe tbody tr th:only-of-type {\n",
       "        vertical-align: middle;\n",
       "    }\n",
       "\n",
       "    .dataframe tbody tr th {\n",
       "        vertical-align: top;\n",
       "    }\n",
       "\n",
       "    .dataframe thead th {\n",
       "        text-align: right;\n",
       "    }\n",
       "</style>\n",
       "<table border=\"1\" class=\"dataframe\">\n",
       "  <thead>\n",
       "    <tr style=\"text-align: right;\">\n",
       "      <th></th>\n",
       "      <th>Well</th>\n",
       "      <th>Cycle</th>\n",
       "      <th>Target Name</th>\n",
       "      <th>Rn</th>\n",
       "      <th>ΔRn</th>\n",
       "      <th>Sample Name</th>\n",
       "      <th>Sample Color</th>\n",
       "      <th>Biogroup Name</th>\n",
       "      <th>Biogroup Color</th>\n",
       "      <th>Target Color</th>\n",
       "      <th>Task</th>\n",
       "      <th>Reporter</th>\n",
       "      <th>Quencher</th>\n",
       "      <th>Quantity</th>\n",
       "      <th>Comments</th>\n",
       "    </tr>\n",
       "  </thead>\n",
       "  <tbody>\n",
       "    <tr>\n",
       "      <th>0</th>\n",
       "      <td>A1</td>\n",
       "      <td>1</td>\n",
       "      <td>Col1a</td>\n",
       "      <td>0.228051</td>\n",
       "      <td>-0.031910</td>\n",
       "      <td>5ng</td>\n",
       "      <td>RGB(223,221,142)</td>\n",
       "      <td>NaN</td>\n",
       "      <td>NaN</td>\n",
       "      <td>RGB(139,189,249)</td>\n",
       "      <td>UNKNOWN</td>\n",
       "      <td>SYBR</td>\n",
       "      <td>None</td>\n",
       "      <td>NaN</td>\n",
       "      <td>NaN</td>\n",
       "    </tr>\n",
       "    <tr>\n",
       "      <th>1</th>\n",
       "      <td>A1</td>\n",
       "      <td>2</td>\n",
       "      <td>Col1a</td>\n",
       "      <td>0.248441</td>\n",
       "      <td>-0.017067</td>\n",
       "      <td>5ng</td>\n",
       "      <td>RGB(223,221,142)</td>\n",
       "      <td>NaN</td>\n",
       "      <td>NaN</td>\n",
       "      <td>RGB(139,189,249)</td>\n",
       "      <td>UNKNOWN</td>\n",
       "      <td>SYBR</td>\n",
       "      <td>None</td>\n",
       "      <td>NaN</td>\n",
       "      <td>NaN</td>\n",
       "    </tr>\n",
       "    <tr>\n",
       "      <th>2</th>\n",
       "      <td>A1</td>\n",
       "      <td>3</td>\n",
       "      <td>Col1a</td>\n",
       "      <td>0.268417</td>\n",
       "      <td>-0.002638</td>\n",
       "      <td>5ng</td>\n",
       "      <td>RGB(223,221,142)</td>\n",
       "      <td>NaN</td>\n",
       "      <td>NaN</td>\n",
       "      <td>RGB(139,189,249)</td>\n",
       "      <td>UNKNOWN</td>\n",
       "      <td>SYBR</td>\n",
       "      <td>None</td>\n",
       "      <td>NaN</td>\n",
       "      <td>NaN</td>\n",
       "    </tr>\n",
       "    <tr>\n",
       "      <th>3</th>\n",
       "      <td>A1</td>\n",
       "      <td>4</td>\n",
       "      <td>Col1a</td>\n",
       "      <td>0.273363</td>\n",
       "      <td>-0.003239</td>\n",
       "      <td>5ng</td>\n",
       "      <td>RGB(223,221,142)</td>\n",
       "      <td>NaN</td>\n",
       "      <td>NaN</td>\n",
       "      <td>RGB(139,189,249)</td>\n",
       "      <td>UNKNOWN</td>\n",
       "      <td>SYBR</td>\n",
       "      <td>None</td>\n",
       "      <td>NaN</td>\n",
       "      <td>NaN</td>\n",
       "    </tr>\n",
       "    <tr>\n",
       "      <th>4</th>\n",
       "      <td>A1</td>\n",
       "      <td>5</td>\n",
       "      <td>Col1a</td>\n",
       "      <td>0.282495</td>\n",
       "      <td>0.000345</td>\n",
       "      <td>5ng</td>\n",
       "      <td>RGB(223,221,142)</td>\n",
       "      <td>NaN</td>\n",
       "      <td>NaN</td>\n",
       "      <td>RGB(139,189,249)</td>\n",
       "      <td>UNKNOWN</td>\n",
       "      <td>SYBR</td>\n",
       "      <td>None</td>\n",
       "      <td>NaN</td>\n",
       "      <td>NaN</td>\n",
       "    </tr>\n",
       "  </tbody>\n",
       "</table>\n",
       "</div>"
      ],
      "text/plain": [
       "  Well  Cycle Target Name        Rn       ΔRn Sample Name      Sample Color  \\\n",
       "0   A1      1       Col1a  0.228051 -0.031910         5ng  RGB(223,221,142)   \n",
       "1   A1      2       Col1a  0.248441 -0.017067         5ng  RGB(223,221,142)   \n",
       "2   A1      3       Col1a  0.268417 -0.002638         5ng  RGB(223,221,142)   \n",
       "3   A1      4       Col1a  0.273363 -0.003239         5ng  RGB(223,221,142)   \n",
       "4   A1      5       Col1a  0.282495  0.000345         5ng  RGB(223,221,142)   \n",
       "\n",
       "   Biogroup Name  Biogroup Color      Target Color     Task Reporter Quencher  \\\n",
       "0            NaN             NaN  RGB(139,189,249)  UNKNOWN     SYBR     None   \n",
       "1            NaN             NaN  RGB(139,189,249)  UNKNOWN     SYBR     None   \n",
       "2            NaN             NaN  RGB(139,189,249)  UNKNOWN     SYBR     None   \n",
       "3            NaN             NaN  RGB(139,189,249)  UNKNOWN     SYBR     None   \n",
       "4            NaN             NaN  RGB(139,189,249)  UNKNOWN     SYBR     None   \n",
       "\n",
       "   Quantity  Comments  \n",
       "0       NaN       NaN  \n",
       "1       NaN       NaN  \n",
       "2       NaN       NaN  \n",
       "3       NaN       NaN  \n",
       "4       NaN       NaN  "
      ]
     },
     "execution_count": 35,
     "metadata": {},
     "output_type": "execute_result"
    }
   ],
   "source": [
    "amp.head() #here is what those dataframes look like"
   ]
  },
  {
   "cell_type": "code",
   "execution_count": 36,
   "metadata": {},
   "outputs": [
    {
     "data": {
      "text/html": [
       "<div>\n",
       "<style scoped>\n",
       "    .dataframe tbody tr th:only-of-type {\n",
       "        vertical-align: middle;\n",
       "    }\n",
       "\n",
       "    .dataframe tbody tr th {\n",
       "        vertical-align: top;\n",
       "    }\n",
       "\n",
       "    .dataframe thead th {\n",
       "        text-align: right;\n",
       "    }\n",
       "</style>\n",
       "<table border=\"1\" class=\"dataframe\">\n",
       "  <thead>\n",
       "    <tr style=\"text-align: right;\">\n",
       "      <th></th>\n",
       "      <th>Well</th>\n",
       "      <th>Sample Name</th>\n",
       "      <th>Target Name</th>\n",
       "      <th>Cт</th>\n",
       "      <th>Cт Mean</th>\n",
       "      <th>Cт SD</th>\n",
       "      <th>Automatic Ct Threshold</th>\n",
       "      <th>Ct Threshold</th>\n",
       "      <th>Automatic Baseline</th>\n",
       "      <th>Baseline Start</th>\n",
       "      <th>Baseline End</th>\n",
       "      <th>Tm1</th>\n",
       "      <th>HIGHSD</th>\n",
       "      <th>EXPFAIL</th>\n",
       "      <th>MTP</th>\n",
       "      <th>Ct_clean</th>\n",
       "    </tr>\n",
       "  </thead>\n",
       "  <tbody>\n",
       "    <tr>\n",
       "      <th>0</th>\n",
       "      <td>A1</td>\n",
       "      <td>5ng</td>\n",
       "      <td>Col1a</td>\n",
       "      <td>21.7995</td>\n",
       "      <td>21.846327</td>\n",
       "      <td>0.066275</td>\n",
       "      <td>1.0</td>\n",
       "      <td>0.14315</td>\n",
       "      <td>1.0</td>\n",
       "      <td>3.0</td>\n",
       "      <td>16.0</td>\n",
       "      <td>82.916039</td>\n",
       "      <td>N</td>\n",
       "      <td>N</td>\n",
       "      <td>N</td>\n",
       "      <td>21.799463</td>\n",
       "    </tr>\n",
       "    <tr>\n",
       "      <th>1</th>\n",
       "      <td>A2</td>\n",
       "      <td>5ng</td>\n",
       "      <td>Col1a</td>\n",
       "      <td>21.8932</td>\n",
       "      <td>21.846327</td>\n",
       "      <td>0.066275</td>\n",
       "      <td>1.0</td>\n",
       "      <td>0.14315</td>\n",
       "      <td>1.0</td>\n",
       "      <td>3.0</td>\n",
       "      <td>16.0</td>\n",
       "      <td>82.916039</td>\n",
       "      <td>N</td>\n",
       "      <td>N</td>\n",
       "      <td>N</td>\n",
       "      <td>21.893190</td>\n",
       "    </tr>\n",
       "    <tr>\n",
       "      <th>2</th>\n",
       "      <td>A3</td>\n",
       "      <td>.5ng</td>\n",
       "      <td>Col1a</td>\n",
       "      <td>21.8186</td>\n",
       "      <td>21.648956</td>\n",
       "      <td>0.239963</td>\n",
       "      <td>1.0</td>\n",
       "      <td>0.14315</td>\n",
       "      <td>1.0</td>\n",
       "      <td>3.0</td>\n",
       "      <td>17.0</td>\n",
       "      <td>82.915024</td>\n",
       "      <td>N</td>\n",
       "      <td>N</td>\n",
       "      <td>N</td>\n",
       "      <td>21.818636</td>\n",
       "    </tr>\n",
       "    <tr>\n",
       "      <th>3</th>\n",
       "      <td>A4</td>\n",
       "      <td>.5ng</td>\n",
       "      <td>Col1a</td>\n",
       "      <td>21.4793</td>\n",
       "      <td>21.648956</td>\n",
       "      <td>0.239963</td>\n",
       "      <td>1.0</td>\n",
       "      <td>0.14315</td>\n",
       "      <td>1.0</td>\n",
       "      <td>3.0</td>\n",
       "      <td>17.0</td>\n",
       "      <td>83.361794</td>\n",
       "      <td>N</td>\n",
       "      <td>N</td>\n",
       "      <td>N</td>\n",
       "      <td>21.479277</td>\n",
       "    </tr>\n",
       "    <tr>\n",
       "      <th>4</th>\n",
       "      <td>A5</td>\n",
       "      <td>NTC</td>\n",
       "      <td>Col1a</td>\n",
       "      <td>37.1046</td>\n",
       "      <td>35.261219</td>\n",
       "      <td>2.606960</td>\n",
       "      <td>1.0</td>\n",
       "      <td>0.14315</td>\n",
       "      <td>1.0</td>\n",
       "      <td>3.0</td>\n",
       "      <td>33.0</td>\n",
       "      <td>73.835121</td>\n",
       "      <td>Y</td>\n",
       "      <td>N</td>\n",
       "      <td>N</td>\n",
       "      <td>37.104618</td>\n",
       "    </tr>\n",
       "  </tbody>\n",
       "</table>\n",
       "</div>"
      ],
      "text/plain": [
       "  Well Sample Name Target Name       Cт    Cт Mean     Cт SD  \\\n",
       "0   A1         5ng       Col1a  21.7995  21.846327  0.066275   \n",
       "1   A2         5ng       Col1a  21.8932  21.846327  0.066275   \n",
       "2   A3        .5ng       Col1a  21.8186  21.648956  0.239963   \n",
       "3   A4        .5ng       Col1a  21.4793  21.648956  0.239963   \n",
       "4   A5         NTC       Col1a  37.1046  35.261219  2.606960   \n",
       "\n",
       "   Automatic Ct Threshold  Ct Threshold  Automatic Baseline  Baseline Start  \\\n",
       "0                     1.0       0.14315                 1.0             3.0   \n",
       "1                     1.0       0.14315                 1.0             3.0   \n",
       "2                     1.0       0.14315                 1.0             3.0   \n",
       "3                     1.0       0.14315                 1.0             3.0   \n",
       "4                     1.0       0.14315                 1.0             3.0   \n",
       "\n",
       "   Baseline End        Tm1 HIGHSD EXPFAIL MTP   Ct_clean  \n",
       "0          16.0  82.916039      N       N   N  21.799463  \n",
       "1          16.0  82.916039      N       N   N  21.893190  \n",
       "2          17.0  82.915024      N       N   N  21.818636  \n",
       "3          17.0  83.361794      N       N   N  21.479277  \n",
       "4          33.0  73.835121      Y       N   N  37.104618  "
      ]
     },
     "execution_count": 36,
     "metadata": {},
     "output_type": "execute_result"
    }
   ],
   "source": [
    "results.head()"
   ]
  },
  {
   "cell_type": "markdown",
   "metadata": {},
   "source": [
    "# some Ct examinations"
   ]
  },
  {
   "cell_type": "code",
   "execution_count": 37,
   "metadata": {
    "code_folding": []
   },
   "outputs": [
    {
     "data": {
      "text/html": [
       "<div>\n",
       "<style scoped>\n",
       "    .dataframe tbody tr th:only-of-type {\n",
       "        vertical-align: middle;\n",
       "    }\n",
       "\n",
       "    .dataframe tbody tr th {\n",
       "        vertical-align: top;\n",
       "    }\n",
       "\n",
       "    .dataframe thead tr th {\n",
       "        text-align: left;\n",
       "    }\n",
       "\n",
       "    .dataframe thead tr:last-of-type th {\n",
       "        text-align: right;\n",
       "    }\n",
       "</style>\n",
       "<table border=\"1\" class=\"dataframe\">\n",
       "  <thead>\n",
       "    <tr>\n",
       "      <th></th>\n",
       "      <th></th>\n",
       "      <th colspan=\"4\" halign=\"left\">Ct_clean</th>\n",
       "    </tr>\n",
       "    <tr>\n",
       "      <th></th>\n",
       "      <th></th>\n",
       "      <th>gmean</th>\n",
       "      <th>gstd</th>\n",
       "      <th>mean</th>\n",
       "      <th>std</th>\n",
       "    </tr>\n",
       "    <tr>\n",
       "      <th>Target Name</th>\n",
       "      <th>Sample Name</th>\n",
       "      <th></th>\n",
       "      <th></th>\n",
       "      <th></th>\n",
       "      <th></th>\n",
       "    </tr>\n",
       "  </thead>\n",
       "  <tbody>\n",
       "    <tr>\n",
       "      <th rowspan=\"3\" valign=\"top\">18S</th>\n",
       "      <th>.5ng</th>\n",
       "      <td>18.57</td>\n",
       "      <td>1.03</td>\n",
       "      <td>18.58</td>\n",
       "      <td>0.47</td>\n",
       "    </tr>\n",
       "    <tr>\n",
       "      <th>5ng</th>\n",
       "      <td>17.83</td>\n",
       "      <td>1.00</td>\n",
       "      <td>17.83</td>\n",
       "      <td>0.02</td>\n",
       "    </tr>\n",
       "    <tr>\n",
       "      <th>NTC</th>\n",
       "      <td>33.03</td>\n",
       "      <td>1.06</td>\n",
       "      <td>33.05</td>\n",
       "      <td>1.86</td>\n",
       "    </tr>\n",
       "    <tr>\n",
       "      <th rowspan=\"3\" valign=\"top\">Col1a</th>\n",
       "      <th>.5ng</th>\n",
       "      <td>21.65</td>\n",
       "      <td>1.01</td>\n",
       "      <td>21.65</td>\n",
       "      <td>0.24</td>\n",
       "    </tr>\n",
       "    <tr>\n",
       "      <th>5ng</th>\n",
       "      <td>21.85</td>\n",
       "      <td>1.00</td>\n",
       "      <td>21.85</td>\n",
       "      <td>0.07</td>\n",
       "    </tr>\n",
       "    <tr>\n",
       "      <th>NTC</th>\n",
       "      <td>35.21</td>\n",
       "      <td>1.08</td>\n",
       "      <td>35.26</td>\n",
       "      <td>2.61</td>\n",
       "    </tr>\n",
       "    <tr>\n",
       "      <th rowspan=\"3\" valign=\"top\">Col1a(+)</th>\n",
       "      <th>.5ng</th>\n",
       "      <td>25.30</td>\n",
       "      <td>1.00</td>\n",
       "      <td>25.30</td>\n",
       "      <td>0.07</td>\n",
       "    </tr>\n",
       "    <tr>\n",
       "      <th>5ng</th>\n",
       "      <td>34.65</td>\n",
       "      <td>1.06</td>\n",
       "      <td>34.68</td>\n",
       "      <td>2.08</td>\n",
       "    </tr>\n",
       "    <tr>\n",
       "      <th>NTC</th>\n",
       "      <td>NaN</td>\n",
       "      <td>NaN</td>\n",
       "      <td>NaN</td>\n",
       "      <td>NaN</td>\n",
       "    </tr>\n",
       "    <tr>\n",
       "      <th rowspan=\"3\" valign=\"top\">L1</th>\n",
       "      <th>.5ng</th>\n",
       "      <td>12.75</td>\n",
       "      <td>1.01</td>\n",
       "      <td>12.75</td>\n",
       "      <td>0.18</td>\n",
       "    </tr>\n",
       "    <tr>\n",
       "      <th>5ng</th>\n",
       "      <td>15.09</td>\n",
       "      <td>1.00</td>\n",
       "      <td>15.09</td>\n",
       "      <td>0.05</td>\n",
       "    </tr>\n",
       "    <tr>\n",
       "      <th>NTC</th>\n",
       "      <td>NaN</td>\n",
       "      <td>NaN</td>\n",
       "      <td>NaN</td>\n",
       "      <td>NaN</td>\n",
       "    </tr>\n",
       "    <tr>\n",
       "      <th rowspan=\"3\" valign=\"top\">MTV</th>\n",
       "      <th>.5ng</th>\n",
       "      <td>22.48</td>\n",
       "      <td>1.01</td>\n",
       "      <td>22.48</td>\n",
       "      <td>0.13</td>\n",
       "    </tr>\n",
       "    <tr>\n",
       "      <th>5ng</th>\n",
       "      <td>24.01</td>\n",
       "      <td>1.00</td>\n",
       "      <td>24.01</td>\n",
       "      <td>0.02</td>\n",
       "    </tr>\n",
       "    <tr>\n",
       "      <th>NTC</th>\n",
       "      <td>34.99</td>\n",
       "      <td>1.00</td>\n",
       "      <td>34.99</td>\n",
       "      <td>0.13</td>\n",
       "    </tr>\n",
       "  </tbody>\n",
       "</table>\n",
       "</div>"
      ],
      "text/plain": [
       "                        Ct_clean                   \n",
       "                           gmean  gstd   mean   std\n",
       "Target Name Sample Name                            \n",
       "18S         .5ng           18.57  1.03  18.58  0.47\n",
       "            5ng            17.83  1.00  17.83  0.02\n",
       "            NTC            33.03  1.06  33.05  1.86\n",
       "Col1a       .5ng           21.65  1.01  21.65  0.24\n",
       "            5ng            21.85  1.00  21.85  0.07\n",
       "            NTC            35.21  1.08  35.26  2.61\n",
       "Col1a(+)    .5ng           25.30  1.00  25.30  0.07\n",
       "            5ng            34.65  1.06  34.68  2.08\n",
       "            NTC              NaN   NaN    NaN   NaN\n",
       "L1          .5ng           12.75  1.01  12.75  0.18\n",
       "            5ng            15.09  1.00  15.09  0.05\n",
       "            NTC              NaN   NaN    NaN   NaN\n",
       "MTV         .5ng           22.48  1.01  22.48  0.13\n",
       "            5ng            24.01  1.00  24.01  0.02\n",
       "            NTC            34.99  1.00  34.99  0.13"
      ]
     },
     "execution_count": 37,
     "metadata": {},
     "output_type": "execute_result"
    }
   ],
   "source": [
    "results.groupby(['Target Name', \"Sample Name\"]).agg({\n",
    "    \"Ct_clean\": [stats.gmean, stats.gstd, 'mean', 'std']\n",
    "}).round(\n",
    "    2\n",
    ")  #aggregate the data by the specified columns, and tell us the mean and std deviation of ct in each group. adding geometric mean and geometric standard deviation since these are differences on a log scale. Because n = 2, gmean and mean are the same, but gstd vs std is different. Rounding included for ease of interpretation."
   ]
  },
  {
   "cell_type": "markdown",
   "metadata": {},
   "source": [
    "This data set looks flipped -- 2 of 5 primer sets show a correct 3 cycle difference, but the opposite of what they are marked. An additional + control shows great amplification with .5 ng and no amplification with 5ng. The other 2 have erratic cq values. It's also possible that the Qubit value on the gDNA is inaccurate, and what we *think* is 5 ng is actually more like 20, and thus inhibitory. Still informative for practice!"
   ]
  },
  {
   "cell_type": "markdown",
   "metadata": {},
   "source": [
    "# Some nuclei calculations"
   ]
  },
  {
   "cell_type": "raw",
   "metadata": {
    "code_folding": [
     0,
     3
    ]
   },
   "source": [
    "results['Template_ng'] = pd.to_numeric(\n",
    "    results['Sample Name'].str.split(\"n\", expand=True)[0],\n",
    "    errors='coerce').fillna(0)  # extract template amount and convert NTC to 0\n",
    "results['Nuclei_calc'] = results['Template_ng'].apply(ng_to_nuclei).round(\n",
    "    2)  #convert template to ng"
   ]
  },
  {
   "cell_type": "raw",
   "metadata": {},
   "source": [
    "results.groupby(['Target Name', \"Template_ng\"]).agg({\n",
    "    \"Ct_clean\": ['mean', 'std'],\n",
    "    'Nuclei_calc': 'mean'\n",
    "}).round(2)  #group and display data"
   ]
  },
  {
   "cell_type": "markdown",
   "metadata": {},
   "source": [
    "## plotting these is informative"
   ]
  },
  {
   "cell_type": "raw",
   "metadata": {},
   "source": [
    "#plot all values without distinguishing targets\n",
    "ax = sns.swarmplot(data=results, y = \"Ct_clean\", x = \"Nuclei_calc\")"
   ]
  },
  {
   "cell_type": "raw",
   "metadata": {},
   "source": [
    "# plot values by target + differentiate the target\n",
    "ax = sns.catplot(data=results, y = \"Ct_clean\", x = \"Target Name\", hue = \"Nuclei_calc\", kind = \"swarm\")"
   ]
  },
  {
   "cell_type": "markdown",
   "metadata": {},
   "source": [
    "# Nuclei approximations"
   ]
  },
  {
   "cell_type": "code",
   "execution_count": 38,
   "metadata": {},
   "outputs": [],
   "source": [
    "#setting up approximate measurements\n",
    "tipDict = {\n",
    "    \"P1000\": 1.1,\n",
    "    \"P300\": 1,\n",
    "    \"P20\": .75,\n",
    "    \"P10\": .6\n",
    "}  \n",
    "\n",
    "# fiji approximations\n",
    "area_umSq = 10000 #measured with Fiji\n",
    "nuclei = 25 #hand counted, not accounting for z stacking\n",
    "density = nuclei / area_umSq #math"
   ]
  },
  {
   "cell_type": "code",
   "execution_count": 39,
   "metadata": {},
   "outputs": [],
   "source": [
    "punch = pd.DataFrame.from_dict(tipDict, orient=\"index\",\n",
    "                               columns=['diam_mm']).reset_index().rename(\n",
    "                                   {\"index\": \"template\"},\n",
    "                                   axis=1)  #convert to dataframe + clean up\n",
    "punch['area_mm_sq'] = punch['diam_mm'].apply(\n",
    "    lambda diam: np.pi * np.square(diam / 2))\n",
    "punch['area_uM_sq'] = punch['area_mm_sq'] * np.square(\n",
    "    1000)  #important to do *squared* dimensional analysis\n",
    "punch['total_nuclei'] = punch['area_uM_sq'] * density\n",
    "punch['ng'] = punch.total_nuclei.apply(nuclei_to_ng)"
   ]
  },
  {
   "cell_type": "code",
   "execution_count": 40,
   "metadata": {},
   "outputs": [],
   "source": [
    "templates = {'High(5ng)': 5, 'Low(0.5ng)': .5, 'NTC': 0}\n",
    "temp = pd.DataFrame.from_dict(templates, orient=\"index\",\n",
    "                              columns=['ng']).reset_index().rename(\n",
    "                                  {\"index\": \"template\"}, axis=1)\n",
    "temp['total_nuclei'] = temp.ng.apply(ng_to_nuclei)"
   ]
  },
  {
   "cell_type": "code",
   "execution_count": 41,
   "metadata": {},
   "outputs": [],
   "source": [
    "templates = punch.append(temp, sort = False)"
   ]
  },
  {
   "cell_type": "code",
   "execution_count": 42,
   "metadata": {},
   "outputs": [
    {
     "data": {
      "text/html": [
       "<div>\n",
       "<style scoped>\n",
       "    .dataframe tbody tr th:only-of-type {\n",
       "        vertical-align: middle;\n",
       "    }\n",
       "\n",
       "    .dataframe tbody tr th {\n",
       "        vertical-align: top;\n",
       "    }\n",
       "\n",
       "    .dataframe thead th {\n",
       "        text-align: right;\n",
       "    }\n",
       "</style>\n",
       "<table border=\"1\" class=\"dataframe\">\n",
       "  <thead>\n",
       "    <tr style=\"text-align: right;\">\n",
       "      <th></th>\n",
       "      <th>template</th>\n",
       "      <th>diam_mm</th>\n",
       "      <th>area_mm_sq</th>\n",
       "      <th>area_uM_sq</th>\n",
       "      <th>total_nuclei</th>\n",
       "      <th>ng</th>\n",
       "    </tr>\n",
       "  </thead>\n",
       "  <tbody>\n",
       "    <tr>\n",
       "      <th>0</th>\n",
       "      <td>P1000</td>\n",
       "      <td>1.10</td>\n",
       "      <td>0.95</td>\n",
       "      <td>950331.78</td>\n",
       "      <td>2375.83</td>\n",
       "      <td>14.25</td>\n",
       "    </tr>\n",
       "    <tr>\n",
       "      <th>1</th>\n",
       "      <td>P300</td>\n",
       "      <td>1.00</td>\n",
       "      <td>0.79</td>\n",
       "      <td>785398.16</td>\n",
       "      <td>1963.50</td>\n",
       "      <td>11.78</td>\n",
       "    </tr>\n",
       "    <tr>\n",
       "      <th>2</th>\n",
       "      <td>P20</td>\n",
       "      <td>0.75</td>\n",
       "      <td>0.44</td>\n",
       "      <td>441786.47</td>\n",
       "      <td>1104.47</td>\n",
       "      <td>6.63</td>\n",
       "    </tr>\n",
       "    <tr>\n",
       "      <th>3</th>\n",
       "      <td>P10</td>\n",
       "      <td>0.60</td>\n",
       "      <td>0.28</td>\n",
       "      <td>282743.34</td>\n",
       "      <td>706.86</td>\n",
       "      <td>4.24</td>\n",
       "    </tr>\n",
       "    <tr>\n",
       "      <th>0</th>\n",
       "      <td>High(5ng)</td>\n",
       "      <td>NaN</td>\n",
       "      <td>NaN</td>\n",
       "      <td>NaN</td>\n",
       "      <td>833.33</td>\n",
       "      <td>5.00</td>\n",
       "    </tr>\n",
       "    <tr>\n",
       "      <th>1</th>\n",
       "      <td>Low(0.5ng)</td>\n",
       "      <td>NaN</td>\n",
       "      <td>NaN</td>\n",
       "      <td>NaN</td>\n",
       "      <td>83.33</td>\n",
       "      <td>0.50</td>\n",
       "    </tr>\n",
       "    <tr>\n",
       "      <th>2</th>\n",
       "      <td>NTC</td>\n",
       "      <td>NaN</td>\n",
       "      <td>NaN</td>\n",
       "      <td>NaN</td>\n",
       "      <td>0.00</td>\n",
       "      <td>0.00</td>\n",
       "    </tr>\n",
       "  </tbody>\n",
       "</table>\n",
       "</div>"
      ],
      "text/plain": [
       "     template  diam_mm  area_mm_sq  area_uM_sq  total_nuclei     ng\n",
       "0       P1000     1.10        0.95   950331.78       2375.83  14.25\n",
       "1        P300     1.00        0.79   785398.16       1963.50  11.78\n",
       "2         P20     0.75        0.44   441786.47       1104.47   6.63\n",
       "3         P10     0.60        0.28   282743.34        706.86   4.24\n",
       "0   High(5ng)      NaN         NaN         NaN        833.33   5.00\n",
       "1  Low(0.5ng)      NaN         NaN         NaN         83.33   0.50\n",
       "2         NTC      NaN         NaN         NaN          0.00   0.00"
      ]
     },
     "execution_count": 42,
     "metadata": {},
     "output_type": "execute_result"
    }
   ],
   "source": [
    "templates.round(2) # ball park estimates for comparing to later data"
   ]
  },
  {
   "cell_type": "markdown",
   "metadata": {},
   "source": [
    "# v3 standard curves of gel punches x primers for amplicons represented in the genome at ~standard curve amounts"
   ]
  },
  {
   "cell_type": "code",
   "execution_count": 43,
   "metadata": {},
   "outputs": [],
   "source": [
    "fn = '200807_RBoyd_gel-ampliconStdcurve_v3.xls'\n",
    "amp, results, title = process(fn)"
   ]
  },
  {
   "cell_type": "markdown",
   "metadata": {},
   "source": [
    "## some visualization"
   ]
  },
  {
   "cell_type": "raw",
   "metadata": {
    "code_folding": [
     0
    ]
   },
   "source": [
    "g = sns.relplot(x='Cycle',\n",
    "            y='Rn',\n",
    "            hue=\"Target Name\",\n",
    "            col=\"Sample Name\",\n",
    "            col_wrap = 4,\n",
    "            data=amp,\n",
    "            palette='Dark2', kind = \"line\")\n",
    "g = g.fig.suptitle(\"v3 standard curve across templates\",  x=0.4, y=0.98) # titling graphs is helpful"
   ]
  },
  {
   "cell_type": "raw",
   "metadata": {
    "code_folding": []
   },
   "source": [
    "# the hopefully useful standard curve. some erratic stuff (the L1 half) -- next time I would halve the *template*, not the primers. otherwise a good start, I think.\n",
    "ax = sns.lineplot(x='Cycle',\n",
    "            y='Rn',\n",
    "            hue=\"Target Name\",\n",
    "            data=amp.query('`Sample Name`.str.contains(\".5\")'),\n",
    "            palette='Dark2')\n",
    "ax = ax.set_title(\"Standard curve of low template against each target\")"
   ]
  },
  {
   "cell_type": "code",
   "execution_count": 44,
   "metadata": {
    "code_folding": []
   },
   "outputs": [],
   "source": [
    "#Dropping the high because something is off with that -- this replicates the previous iteration, which implies something? odd with the template. Re-Qubit.\n",
    "\n",
    "amp_noHigh = amp.query('`Sample Name` != \"High(5ng)\"')"
   ]
  },
  {
   "cell_type": "raw",
   "metadata": {
    "code_folding": []
   },
   "source": [
    "g = sns.relplot(x='Cycle',\n",
    "            y='Rn',\n",
    "            hue=\"Sample Name\",\n",
    "            col=\"Target Name\",\n",
    "            col_wrap = 3,\n",
    "            data=amp_noHigh,\n",
    "            palette='Dark2', kind = \"line\")\n",
    "g = g.fig.suptitle(\"v3 standard curve across targets\",  x=0.4, y=0.98)"
   ]
  },
  {
   "cell_type": "markdown",
   "metadata": {},
   "source": [
    "## diy standard curve"
   ]
  },
  {
   "cell_type": "code",
   "execution_count": 45,
   "metadata": {},
   "outputs": [],
   "source": [
    "#dict for approximate values\n",
    "genome_copies = {\n",
    "    \"col1a1\": 2,\n",
    "    \"mtv\": 10,\n",
    "    \"18s\": 100,\n",
    "    \"L1\": 3000,\n",
    "    \"L1half\": 1500\n",
    "}"
   ]
  },
  {
   "cell_type": "code",
   "execution_count": 46,
   "metadata": {},
   "outputs": [],
   "source": [
    "calc = templates.add_suffix(\"_calc\")\n",
    "results['genomeCopies'] = results['Target Name'].map(genome_copies)\n",
    "# d = results[['Well', 'Sample Name', 'Target Name', 'Cт', 'Ct_clean']].copy() #for my SANITY\n",
    "d = results.merge(calc, left_on = (\"Sample Name\"), right_on =\"template_calc\", how = \"outer\").rename({\"Sample Name\": \"SampleName\"}, axis=1)"
   ]
  },
  {
   "cell_type": "code",
   "execution_count": 47,
   "metadata": {},
   "outputs": [],
   "source": [
    "d['num_amplicons_calc'] = d['total_nuclei_calc']*d['genomeCopies']\n",
    "d['log2_num_amplicons_calc'] = np.log2(d['num_amplicons_calc'].replace(0, np.nan)).fillna(0)"
   ]
  },
  {
   "cell_type": "code",
   "execution_count": 62,
   "metadata": {},
   "outputs": [],
   "source": [
    "stds = d.query('SampleName.str.contains(\"Low\")')\n",
    "\n",
    "x = stds['log2_num_amplicons_calc']\n",
    "y = stds['Ct_clean']\n",
    "y_range = [y.min().round(2), y.max().round()]\n",
    "\n",
    "m, b, r_value, p_value, std_err = stats.linregress(x, y)\n",
    "ct_line = m*x + b\n",
    "line_eq = \"y={:.2f}x+{:.2f}\".format(m, b)\n",
    "\n",
    "# considering range, not really interested in working  too far outside our range\n",
    "is_ranged = d['Ct_clean'].between(y.min(), y.max())\n",
    "ranged = d[is_ranged].copy()\n",
    "ranged['log2_num_amplicons_curveExp'] = (ranged['Ct_clean'] - b) / m\n",
    "ranged['num_amplicons_curveExp'] = np.exp2(ranged['log2_num_amplicons_curveExp'])"
   ]
  },
  {
   "cell_type": "code",
   "execution_count": 73,
   "metadata": {},
   "outputs": [
    {
     "data": {
      "image/png": "[encoded data removed]",
      "text/plain": [
       "<Figure size 432x288 with 1 Axes>"
      ]
     },
     "metadata": {},
     "output_type": "display_data"
    }
   ],
   "source": [
    "ax = sns.scatterplot(x, y, marker='o', label='Standards', color= \"r\")\n",
    "ax = sns.lineplot(x,\n",
    "                  ct_line,\n",
    "                  label='Linear regression to standards, {}'.format(line_eq),\n",
    "                  ax=ax)\n",
    "ax = sns.scatterplot('log2_num_amplicons_curveExp',\n",
    "                     'Ct_clean',\n",
    "                     data=ranged,\n",
    "                     hue=\"SampleName\",\n",
    "                     alpha=.7)\n",
    "# ax = sns.pointplot('log2_num_amplicons_curvecalc',\n",
    "#                    'Ct_clean',\n",
    "#                    data=ranged,\n",
    "#                    join=False,\n",
    "#                    hue='SampleName', dodge = .5, markers = \"x\", ax= ax)\n",
    "sns.despine(ax=ax,\n",
    "            top=True,\n",
    "            right=True,\n",
    "            left=False,\n",
    "            bottom=False,\n",
    "            offset=None,\n",
    "            trim=False)\n",
    "ax.legend(loc='upper left', bbox_to_anchor=(1, 1), frameon=False)\n",
    "ax.set(title=\"Linear regression on ct values\")\n",
    "\n",
    "fig = ax.get_figure()"
   ]
  },
  {
   "cell_type": "code",
   "execution_count": 52,
   "metadata": {},
   "outputs": [],
   "source": [
    "x= 'log2_num_amplicons_calc'\n",
    "y= 'log2_num_amplicons_curveExp'\n",
    "m, b, r_value, p_value, std_err = stats.linregress(ranged[x], ranged[y])\n",
    "ct_line = m*ranged[x] + b\n",
    "line_eq = \"y={:.2f}x+{:.2f}\".format(m, b)\n"
   ]
  },
  {
   "cell_type": "code",
   "execution_count": 60,
   "metadata": {},
   "outputs": [
    {
     "data": {
      "image/png": "[encoded data removed]",
      "text/plain": [
       "<Figure size 432x288 with 1 Axes>"
      ]
     },
     "metadata": {},
     "output_type": "display_data"
    }
   ],
   "source": [
    "ax = sns.scatterplot(x, y, label=\"Data\", data=ranged, hue=\"SampleName\")\n",
    "ax = sns.lineplot(\n",
    "    x, ct_line, \n",
    "    label='Ct regression line, {}'.format(line_eq),\n",
    "    data=ranged,\n",
    "    ax=ax)\n",
    "\n",
    "ax.legend(loc='upper left', bbox_to_anchor=(1, 1), frameon=False)\n",
    "ax.set(\n",
    "        title=\"Log2 amplicon counts, calculated vs empirical\")\n",
    "\n",
    "\n",
    "sns.despine(ax=ax,\n",
    "            top=True,\n",
    "            right=True,\n",
    "            left=False,\n",
    "            bottom=False,\n",
    "            offset=None,\n",
    "            trim=False)\n",
    "\n",
    "fig = ax.get_figure()\n",
    "# fig.show()"
   ]
  },
  {
   "cell_type": "code",
   "execution_count": 59,
   "metadata": {},
   "outputs": [
    {
     "data": {
      "image/png": "[encoded data removed]",
      "text/plain": [
       "<Figure size 1187.9x720 with 6 Axes>"
      ]
     },
     "metadata": {},
     "output_type": "display_data"
    }
   ],
   "source": [
    "g = sns.catplot(x,\n",
    "                y,\n",
    "                hue=\"Target Name\",\n",
    "                col=\"SampleName\",\n",
    "                col_wrap=3,\n",
    "                data=ranged,\n",
    "                palette='Dark2',\n",
    "                kind=\"swarm\",\n",
    "                sharex=True,\n",
    "                sharey=True)\n",
    "\n",
    "g = g.fig.suptitle(\"Expected vs actual amplification values\",  x=0.5, y=1.1)"
   ]
  },
  {
   "cell_type": "code",
   "execution_count": null,
   "metadata": {},
   "outputs": [],
   "source": [
    "# def fitFunc(t,a,b):\n",
    "# #     return a*np.exp(b*t)\n",
    "# popt, pcov  = optimize.curve_fit(lambda t,a,b: fitFunc(t,a,b),  x,  y, p0=(4, 0.1))"
   ]
  },
  {
   "cell_type": "code",
   "execution_count": null,
   "metadata": {},
   "outputs": [],
   "source": [
    "# xmod =  np.linspace(min(x), max(x))\n",
    "# ymod = fitFunc(xmod, *popt)\n",
    "# d['y_fit'] = fitFunc(data_x, *popt)"
   ]
  },
  {
   "cell_type": "code",
   "execution_count": null,
   "metadata": {
    "scrolled": true
   },
   "outputs": [],
   "source": [
    "# ax = sns.scatterplot(x, y, label = \"Fit points\")\n",
    "# ax = sns.lineplot(xmod, ymod, ax = ax)\n",
    "# ax = sns.scatterplot('Ct_clean',\n",
    "#                      'y_fit',\n",
    "#                      hue=\"SampleName\",\n",
    "#                      data=d,\n",
    "#                      label='data', ax= ax)"
   ]
  },
  {
   "cell_type": "code",
   "execution_count": null,
   "metadata": {},
   "outputs": [],
   "source": [
    "# # ax = sns.scatterplot(x,y, label = \"init\")\n",
    "# sns.lineplot(x, fun(x, popt[0], popt[1]),\n",
    "#          label='Fitted function')\n",
    "# # ax = sns.lineplot(x, yfit, label = \"fit\")"
   ]
  },
  {
   "cell_type": "code",
   "execution_count": null,
   "metadata": {},
   "outputs": [],
   "source": [
    "# x = stds['Ct_clean']\n",
    "# y = stds['num_amplicons_calc']\n",
    "# # p, residuals, _, _, _ = np.polyfit(x, y, 2, full=True)\n",
    "# # chisq_dof = residuals / (len(x) - 3)\n",
    "# # poly = np.poly1d(p)"
   ]
  },
  {
   "cell_type": "code",
   "execution_count": null,
   "metadata": {
    "code_folding": [
     17
    ]
   },
   "outputs": [],
   "source": [
    "# ax = sns.scatterplot('Ct_clean',\n",
    "#                      np.log(stds['num_amplicons_calc']),\n",
    "#                      marker='o',\n",
    "#                      label='Standards',\n",
    "#                      data=stds,\n",
    "#                      color=\"r\")\n",
    "# ax = sns.lineplot(stds['Ct_clean'],\n",
    "#                   intercept + slope * stds['Ct_clean'],\n",
    "#                   label='Linear regression to standards',\n",
    "#                   ax=ax)\n",
    "# # ax = sns.scatterplot('Ct_clean',\n",
    "# #                      intercept + slope * results['Ct_clean'],\n",
    "# #                      hue=\"Sample Name\",\n",
    "# #                      data=results,\n",
    "# #                      label='data',\n",
    "# #                      ax=ax)\n",
    "\n",
    "# sns.despine(ax=ax,\n",
    "#             top=True,\n",
    "#             right=True,\n",
    "#             left=False,\n",
    "#             bottom=False,\n",
    "#             offset=None,\n",
    "#             trim=False)\n",
    "# ax.legend(loc='upper left', bbox_to_anchor=(1.2, 1), frameon=False)\n",
    "# ax = ax.set(\n",
    "#     title=\"Linear regression of ct values\",\n",
    "#     ylabel=\"Log of num amplicons \\n (genome copies x avg nuclei per ng)\")"
   ]
  },
  {
   "cell_type": "code",
   "execution_count": null,
   "metadata": {},
   "outputs": [],
   "source": []
  },
  {
   "cell_type": "code",
   "execution_count": null,
   "metadata": {},
   "outputs": [],
   "source": [
    "ranged['log_num_amplicons_experimental'] = intercept + slope * ranged[\n",
    "    'Ct_clean']  #apply linear regression\n",
    "ranged['num_amplicons_experimental'] = np.exp(\n",
    "    ranged['log_num_amplicons_experimental']\n",
    ")  # undo log transformation. I don't think this is mathematically correct.\n",
    "ranged['nuclei_experimental'] = ranged['num_amplicons_experimental'] / ranged[\n",
    "    'genomeCopies']  #this is dubious given that undoing ln"
   ]
  },
  {
   "cell_type": "code",
   "execution_count": null,
   "metadata": {},
   "outputs": [],
   "source": [
    "ranged['ng_experimental'] = ranged['nuclei_experimental'].apply(nuclei_to_ng)"
   ]
  },
  {
   "cell_type": "code",
   "execution_count": null,
   "metadata": {},
   "outputs": [],
   "source": [
    "# sns.boxplot('ng_calc', 'ng_experimental', hue=\"SampleName\", data=ranged)"
   ]
  }
 ],
 "metadata": {
  "kernelspec": {
   "display_name": "Python 3",
   "language": "python",
   "name": "python3"
  },
  "language_info": {
   "codemirror_mode": {
    "name": "ipython",
    "version": 3
   },
   "file_extension": ".py",
   "mimetype": "text/x-python",
   "name": "python",
   "nbconvert_exporter": "python",
   "pygments_lexer": "ipython3",
   "version": "3.7.6"
  }
 },
 "nbformat": 4,
 "nbformat_minor": 2
}
