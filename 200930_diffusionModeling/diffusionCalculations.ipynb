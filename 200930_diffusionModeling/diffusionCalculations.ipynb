{
 "cells": [
  {
   "cell_type": "code",
   "execution_count": 1,
   "metadata": {},
   "outputs": [],
   "source": [
    "import numpy as np\n",
    "import seaborn as sns\n",
    "import pandas as pd\n",
    "import math\n",
    "import functools\n",
    "import matplotlib.pyplot as plt"
   ]
  },
  {
   "cell_type": "markdown",
   "metadata": {},
   "source": [
    "# term definitions\n",
    "## variable terms\n",
    "|variable | description |\n",
    "|---------| ----------- |\n",
    "| time | time for diffusion to occur in (mins), written as (minimum time : maximum time) |\n",
    "| CAS | starting concentration at surface in(μM)|\n",
    "|gel | gel thickness in(μm)\n",
    "|temp| temperature in(◦C)|\n",
    "|dyvisc |dynamic viscoscity of buffer/media in(kg/m·s)or(Pa·s)|\n",
    "|rad |radius of solute in(nm)|\n",
    "|dpore | diameter of gel pore in(nm)|\n",
    "\n",
    "## constant terms\n",
    "|variable | description |\n",
    "|---------| ----------- |\n",
    "|Boltz| bolltzmann Constant (1.38064852 x10−23)|\n",
    "|k_to_c |Conversion from(◦C)to Kelvin (273.15)|\n",
    "\n",
    "## Terms in Function:\n",
    "\n",
    "* (Boltz* (temp+273.15)/(6* pi* dyvisc* rad))* 60e+21= Stokes einstein equation/diffusion coefficient(μm2/s)\n",
    "* (1 -ψ)2= Steric partition coefficient(F1(ψ))\n",
    "* 1 - (2.104 *ψ) + (2.09 *ψ3) - (0.95 *ψ5)= Hydrodynamic hinderance factor(F2(ψ))\n",
    "* rad * 2/dpore=ψCAS·1 - erf(x√4·2D·t)= solution to Fick’s second law (∂C∂t= 2D·∂2C∂x2) for * two-sided diffusion boundary conditions (x=0,c=CAS; x>0, c = 0; t=0)\n",
    "\n"
   ]
  },
  {
   "cell_type": "markdown",
   "metadata": {
    "heading_collapsed": true
   },
   "source": [
    "# physical constants"
   ]
  },
  {
   "cell_type": "code",
   "execution_count": 16,
   "metadata": {
    "hidden": true
   },
   "outputs": [],
   "source": [
    "# constants\n",
    "boltz = 1.38064852e-23\n",
    "pi = np.pi"
   ]
  },
  {
   "cell_type": "markdown",
   "metadata": {},
   "source": [
    "# molecule specific variables\n",
    "* cas - concentration at surface, uM\n",
    "* rad - radius of solute, nm"
   ]
  },
  {
   "cell_type": "code",
   "execution_count": null,
   "metadata": {},
   "outputs": [],
   "source": []
  },
  {
   "cell_type": "code",
   "execution_count": 14,
   "metadata": {},
   "outputs": [],
   "source": [
    "# name , concentration_at_surface_um, radius_of_molecule_nm\n",
    "solutes = [\n",
    "    ['dNTPs', 200, .34],\n",
    "    ['MgCl2',1500, .253],\n",
    "    ['fwdPrimer',1,1.26],\n",
    "    ['revPrimer', 1,1.13],\n",
    "    ['Taq',7e-09,4.6]]"
   ]
  },
  {
   "cell_type": "markdown",
   "metadata": {
    "heading_collapsed": true
   },
   "source": [
    "# pore size\n",
    "\"At low %T (typical for DNA sequencing gels), the higher proportion of crosslinker makes the gel stronger. At a higher %T (typical for proteins; 10–12% T), using 5% C makes the gel brittle and it cracks more easily. Using a lower %C makes a 10–12% T gel more elastic and flexible without loss of strength. \"\n",
    "Pore size is predominantly a function of gel percentage. It is affected by the monomer ratio if it goes below 6%, but otherwise is primarily determined by the monomer:water ratio."
   ]
  },
  {
   "cell_type": "code",
   "execution_count": 31,
   "metadata": {
    "hidden": true
   },
   "outputs": [
    {
     "data": {
      "text/plain": [
       "16.666666666666664"
      ]
     },
     "execution_count": 31,
     "metadata": {},
     "output_type": "execute_result"
    }
   ],
   "source": [
    "#WIP\n",
    "# % t = (g acrylamied + g cross-linker) / total volume (mL) x100\n",
    "np.reciprocal(6.0)*100"
   ]
  },
  {
   "cell_type": "markdown",
   "metadata": {},
   "source": [
    "# diffusion function definition"
   ]
  },
  {
   "cell_type": "code",
   "execution_count": 12,
   "metadata": {
    "code_folding": []
   },
   "outputs": [],
   "source": [
    "def twosidedDiffusion(time,temp, dpore, dyvisc, gel,cas, rad):\n",
    "    tempK = temp + 273.15\n",
    "    \n",
    "    stokes = boltz* tempK/(6* pi* dyvisc* rad)* 60e+21\n",
    "    \n",
    "    psi = (rad*2)/dpore\n",
    "    steric_partition = np.power(1-psi, 2)\n",
    "    hindrance = 1 - (2.104 * psi) + np.power(2.09*psi,3) - np.power(0.95*psi, 5)\n",
    "    D = stokes*steric_partition*hindrance\n",
    "    _denom = np.sqrt(4*2*D*time)\n",
    "    c_as = 1-math.erf(gel/_denom)\n",
    "    c_as_time = cas * c_as\n",
    "    return c_as_time, c_as"
   ]
  },
  {
   "cell_type": "markdown",
   "metadata": {},
   "source": [
    "# set environmental conditions + model"
   ]
  },
  {
   "cell_type": "code",
   "execution_count": 15,
   "metadata": {
    "code_folding": []
   },
   "outputs": [
    {
     "name": "stdout",
     "output_type": "stream",
     "text": [
      "At 210 minutes and incubation at 4*c, concentration at center is:\n",
      "dNTPs: 198.1349 interior (uM), 0.99067 of surface\n",
      "MgCl2: 1488.0059 interior (uM), 0.992 of surface\n",
      "fwdPrimer: 0.9808 interior (uM), 0.98084 of surface\n",
      "revPrimer: 0.982 interior (uM), 0.98202 of surface\n",
      "Taq: 6.671473e-09 interior (uM), 0.95307 of surface\n"
     ]
    }
   ],
   "source": [
    "time = 210\n",
    "temp = 4\n",
    "dyvisc = 0.001569 # this can be variable, but it is constant for now\n",
    "dpore = 56\n",
    "gel = 50\n",
    "diffusionFunc = functools.partial(twosidedDiffusion, time, temp, dpore, dyvisc, gel)\n",
    "\n",
    "print(\"At {} minutes and incubation at {}*c, concentration at center is:\".format(time, temp))\n",
    "for c in solutes:\n",
    "    title = c[0]\n",
    "    val, ratio = diffusionFunc(cas = c[1], rad = c[2])\n",
    "    if title == \"Taq\":\n",
    "        printVal = \"{:e}\".format(val)\n",
    "    else:\n",
    "        printVal = np.round(val, 4)\n",
    "    print(\"{}: {} interior (uM), {} of surface\".format(title,\n",
    "                                                       printVal,\n",
    "                                                       np.round(ratio, 5)))"
   ]
  },
  {
   "cell_type": "markdown",
   "metadata": {},
   "source": [
    "# plotting time vs concentration for all components"
   ]
  },
  {
   "cell_type": "code",
   "execution_count": 7,
   "metadata": {},
   "outputs": [
    {
     "data": {
      "image/png": "[encoded data removed]",
      "text/plain": [
       "<Figure size 432x288 with 1 Axes>"
      ]
     },
     "metadata": {
      "needs_background": "light"
     },
     "output_type": "display_data"
    }
   ],
   "source": [
    "x = np.linspace(.01,time,100)\n",
    "vectorizedDiffusion = np.vectorize(twosidedDiffusion) \n",
    "fig, ax = plt.subplots()\n",
    "goal_c_as = .95\n",
    "\n",
    "for c in solutes:\n",
    "    title = c[0]\n",
    "    val, ratio = vectorizedDiffusion(x, temp, dpore, dyvisc, gel, cas = c[1], rad = c[2])\n",
    "    ax = sns.lineplot(x=x, y = ratio, ax = ax, legend='brief', label=title)\n",
    "    idx = np.argwhere(np.diff(np.sign(goal_c_as - ratio))).flatten()\n",
    "    ax.axvline(x = idx)    \n",
    "\n",
    "ax.set(xlabel='time (minutes)', ylabel='ratio to outside')\n",
    "ax.set_title(\"Diffusion of all components over {}m at {}c.\\n Blue vertical line shows time when {} % of c_as is reached\".format(time, temp, goal_c_as))\n",
    "# plt.plot(x[idx], f[idx], 'ro')\n",
    "plt.show()"
   ]
  }
 ],
 "metadata": {
  "kernelspec": {
   "display_name": "Python 3",
   "language": "python",
   "name": "python3"
  },
  "language_info": {
   "codemirror_mode": {
    "name": "ipython",
    "version": 3
   },
   "file_extension": ".py",
   "mimetype": "text/x-python",
   "name": "python",
   "nbconvert_exporter": "python",
   "pygments_lexer": "ipython3",
   "version": "3.7.9"
  }
 },
 "nbformat": 4,
 "nbformat_minor": 4
}
