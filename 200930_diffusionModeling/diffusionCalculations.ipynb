{
 "cells": [
  {
   "cell_type": "code",
   "execution_count": 53,
   "metadata": {},
   "outputs": [],
   "source": [
    "import numpy as np\n",
    "import seaborn as sns\n",
    "import pandas as pd\n",
    "import math"
   ]
  },
  {
   "cell_type": "markdown",
   "metadata": {},
   "source": [
    "# Math\n",
    "## variable terms\n",
    "|variable | description |\n",
    "|---------| ----------- |\n",
    "| time | time for diffusion to occur in (mins), written as (minimum time : maximum time) |\n",
    "| CAS | starting concentration at surface in(μM)|\n",
    "|gel | gel thickness in(μm)temp= temperature in(◦C)|\n",
    "|dyvisc |dynamic viscoscity of buffer/media in(kg/m·s)or(Pa·s)|\n",
    "|rad |radius of solute in(nm)|\n",
    "|dpore | diameter of gel pore in(nm)|\n",
    "\n",
    "## constant terms\n",
    "|variable | description |\n",
    "|---------| ----------- |\n",
    "|Boltz| bolltzmann Constant (1.38064852 x10−23)|\n",
    "|k_to_c |Conversion from(◦C)to Kelvin (273.15)|\n",
    "\n",
    "## Terms in Function:\n",
    "\n",
    "* (Boltz* (temp+273.15)/(6* pi* dyvisc* rad))* 60e+21= Stokes einstein equation/diffusion coefficient(μm2/s)\n",
    "* (1 -ψ)2= Steric partition coefficient(F1(ψ))\n",
    "* 1 - (2.104 *ψ) + (2.09 *ψ3) - (0.95 *ψ5)= Hydrodynamic hinderance factor(F2(ψ))\n",
    "* rad * 2/dpore=ψCAS·1 - erf(x√4·2D·t)= solution to Fick’s second law (∂C∂t= 2D·∂2C∂x2) for * two-sided diffusion boundary conditions (x=0,c=CAS; x>0, c = 0; t=0)\n",
    "\n"
   ]
  },
  {
   "cell_type": "code",
   "execution_count": 45,
   "metadata": {},
   "outputs": [],
   "source": [
    "# constants\n",
    "boltz = 1.38064852e-23\n",
    "dyvisc = 0.001569# this can be variable, but it is constant for now\n",
    "dpore = 56\n",
    "pi = np.pi\n",
    "def k_to_c(temp):\n",
    "    val = temp + 273.15\n",
    "    return val"
   ]
  },
  {
   "cell_type": "code",
   "execution_count": 46,
   "metadata": {},
   "outputs": [
    {
     "data": {
      "text/plain": [
       "277.15"
      ]
     },
     "execution_count": 46,
     "metadata": {},
     "output_type": "execute_result"
    }
   ],
   "source": [
    "k_to_c(4)"
   ]
  },
  {
   "cell_type": "code",
   "execution_count": 98,
   "metadata": {},
   "outputs": [],
   "source": [
    "def twosidedDiffusion(time, cas, gel, temp, rad):\n",
    "    tempK = k_to_c(temp)\n",
    "    stokes = boltz* tempK/(6* pi* dyvisc* rad)* 60e+21\n",
    "    psi = (rad*2)/dpore\n",
    "    steric_partition = np.power(1-psi, 2)\n",
    "    hindrance = 1 - (2.104 * psi) + np.power(2.09*psi,3) - np.power(0.95*psi, 5)\n",
    "    D = stokes*steric_partition*hindrance\n",
    "    _denom = np.sqrt(4*2*D*time)\n",
    "    \n",
    "    c_as = 1-math.erf(gel/_denom)\n",
    "    c_as_time = cas * c_as\n",
    "    return np.int(c_as_time)"
   ]
  },
  {
   "cell_type": "code",
   "execution_count": 108,
   "metadata": {},
   "outputs": [
    {
     "data": {
      "text/plain": [
       "[Text(0.5, 0, 'time (minutes)'), Text(0, 0.5, 'uM concentration')]"
      ]
     },
     "execution_count": 108,
     "metadata": {},
     "output_type": "execute_result"
    },
    {
     "data": {
      "image/png": "[encoded data removed]",
      "text/plain": [
       "<Figure size 432x288 with 1 Axes>"
      ]
     },
     "metadata": {
      "needs_background": "light"
     },
     "output_type": "display_data"
    }
   ],
   "source": [
    "x = np.linspace(.01,5,100)\n",
    "vectorizedDiffusion = np.vectorize(twosidedDiffusion) \n",
    "y = vectorizedDiffusion(x, 200, 25, 4 ,.34)\n",
    "ax = sns.lineplot(x=x, y = y)\n",
    "ax.set(xlabel='time (minutes)', ylabel='uM concentration')"
   ]
  }
 ],
 "metadata": {
  "kernelspec": {
   "display_name": "Python 3",
   "language": "python",
   "name": "python3"
  },
  "language_info": {
   "codemirror_mode": {
    "name": "ipython",
    "version": 3
   },
   "file_extension": ".py",
   "mimetype": "text/x-python",
   "name": "python",
   "nbconvert_exporter": "python",
   "pygments_lexer": "ipython3",
   "version": "3.7.9"
  }
 },
 "nbformat": 4,
 "nbformat_minor": 4
}
